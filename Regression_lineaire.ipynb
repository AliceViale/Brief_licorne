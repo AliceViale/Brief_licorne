{
 "cells": [
  {
   "cell_type": "markdown",
   "id": "91e37a5e",
   "metadata": {},
   "source": [
    "Contexte du projet:\n",
    "La BPI France dispose d'un fond d'investissement qu'elle voudrait utiliser pour investir dans les start'up de demain les plus prometteuses. Seulement elle ne sait pas comment les sélectionner. Faut -il investir dans celles qui dépensent le plus en marketing ? en recherche et développement ? Dans quelles villes les startups semblent mieux opérer? Elle fait donc appel à vous pour y voir plus clair...\n",
    "\n",
    "Vous devez donc concevoir un modèle de régression linéaire multiple qui permettra à la BPI d'une part de sélectionner les 5 start'up les plus prometteuses et d'autre part de déterminer dans quel(s) secteur(s) il serait le plus judicieux de répartir les budgets de dépenses.\n",
    "\n",
    "En fournissant les budgets alloués aux différents pôles de travail, le modèle doit pouvoir prédire quel est le profit potentiel qui serait généré."
   ]
  },
  {
   "cell_type": "markdown",
   "id": "7c7ff50d",
   "metadata": {},
   "source": [
    "I.IMPORTATION des librairies"
   ]
  },
  {
   "cell_type": "code",
   "execution_count": 1,
   "id": "b8f9f81c",
   "metadata": {},
   "outputs": [],
   "source": [
    "import numpy as np \n",
    "import matplotlib.pyplot as plt \n",
    "import pandas as pd \n",
    "import scikitplot as skplt\n",
    "from sklearn import metrics\n",
    "import seaborn as sns\n",
    "from matplotlib.ticker import MultipleLocator, FormatStrFormatter\n",
    "%matplotlib inline\n",
    "from sklearn.model_selection import train_test_split\n",
    "from sklearn.tree import DecisionTreeClassifier\n",
    "from sklearn.tree import plot_tree\n",
    "from sklearn.tree import export_text"
   ]
  },
  {
   "cell_type": "markdown",
   "id": "0e6a515e",
   "metadata": {},
   "source": [
    "Chargement du dataset"
   ]
  },
  {
   "cell_type": "code",
   "execution_count": 2,
   "id": "53a4a730",
   "metadata": {},
   "outputs": [],
   "source": [
    "df = pd.read_csv('50_Startups.csv',sep=\";\")"
   ]
  },
  {
   "cell_type": "markdown",
   "id": "6b85581f",
   "metadata": {},
   "source": [
    "II.DESCRIPTION du jeu de données"
   ]
  },
  {
   "cell_type": "code",
   "execution_count": 3,
   "id": "c3935dfc",
   "metadata": {},
   "outputs": [
    {
     "name": "stdout",
     "output_type": "stream",
     "text": [
      "<class 'pandas.core.frame.DataFrame'>\n",
      "RangeIndex: 50 entries, 0 to 49\n",
      "Data columns (total 5 columns):\n",
      " #   Column          Non-Null Count  Dtype  \n",
      "---  ------          --------------  -----  \n",
      " 0   R&D             50 non-null     float64\n",
      " 1   Administration  50 non-null     float64\n",
      " 2   Marketing       50 non-null     float64\n",
      " 3   villes          50 non-null     object \n",
      " 4   Profit          50 non-null     float64\n",
      "dtypes: float64(4), object(1)\n",
      "memory usage: 2.1+ KB\n"
     ]
    }
   ],
   "source": [
    "df.info()"
   ]
  },
  {
   "cell_type": "markdown",
   "id": "54801f61",
   "metadata": {},
   "source": [
    "Remarques: le jeu de données comporte peu d'entrées, donc peu de données sur lesquelles entraîner notre modèle. On peut déjà se poser la question de la précision du résultat.\n",
    "Il faudra convertir le type object de la colonne ville pour le transformer en float. \n",
    "\n",
    "Les trois premières colonnes représentent les secteurs d'investissement.\n",
    "\n",
    "La quatrième colonne les villes où se situent ces start-ups(peut-on discriminer par territoire?).\n",
    "\n",
    "La cinquième colonne fera l'objet de notre label car on cherche à prédire le profit en fonction de l'argent alloué aux différents secteurs d'activité.\n",
    "Il faut pouvoir saisir un montant dans chaque domaine ainsi que la ville pour obtenir un profit prédit."
   ]
  },
  {
   "cell_type": "markdown",
   "id": "f822d219",
   "metadata": {},
   "source": [
    "III.EXPLORATION"
   ]
  },
  {
   "cell_type": "code",
   "execution_count": 4,
   "id": "6698ab61",
   "metadata": {},
   "outputs": [
    {
     "data": {
      "text/html": [
       "<div>\n",
       "<style scoped>\n",
       "    .dataframe tbody tr th:only-of-type {\n",
       "        vertical-align: middle;\n",
       "    }\n",
       "\n",
       "    .dataframe tbody tr th {\n",
       "        vertical-align: top;\n",
       "    }\n",
       "\n",
       "    .dataframe thead th {\n",
       "        text-align: right;\n",
       "    }\n",
       "</style>\n",
       "<table border=\"1\" class=\"dataframe\">\n",
       "  <thead>\n",
       "    <tr style=\"text-align: right;\">\n",
       "      <th></th>\n",
       "      <th>R&amp;D</th>\n",
       "      <th>Administration</th>\n",
       "      <th>Marketing</th>\n",
       "      <th>villes</th>\n",
       "      <th>Profit</th>\n",
       "    </tr>\n",
       "  </thead>\n",
       "  <tbody>\n",
       "    <tr>\n",
       "      <th>0</th>\n",
       "      <td>165349.20</td>\n",
       "      <td>136897.80</td>\n",
       "      <td>471784.10</td>\n",
       "      <td>Paris</td>\n",
       "      <td>192261.83</td>\n",
       "    </tr>\n",
       "    <tr>\n",
       "      <th>1</th>\n",
       "      <td>162597.70</td>\n",
       "      <td>151377.59</td>\n",
       "      <td>443898.53</td>\n",
       "      <td>Strasbourg</td>\n",
       "      <td>191792.06</td>\n",
       "    </tr>\n",
       "    <tr>\n",
       "      <th>2</th>\n",
       "      <td>153441.51</td>\n",
       "      <td>101145.55</td>\n",
       "      <td>407934.54</td>\n",
       "      <td>Lyon</td>\n",
       "      <td>191050.39</td>\n",
       "    </tr>\n",
       "    <tr>\n",
       "      <th>3</th>\n",
       "      <td>144372.41</td>\n",
       "      <td>118671.85</td>\n",
       "      <td>383199.62</td>\n",
       "      <td>Paris</td>\n",
       "      <td>182901.99</td>\n",
       "    </tr>\n",
       "    <tr>\n",
       "      <th>4</th>\n",
       "      <td>142107.34</td>\n",
       "      <td>91391.77</td>\n",
       "      <td>366168.42</td>\n",
       "      <td>Lyon</td>\n",
       "      <td>166187.94</td>\n",
       "    </tr>\n",
       "  </tbody>\n",
       "</table>\n",
       "</div>"
      ],
      "text/plain": [
       "         R&D  Administration  Marketing      villes     Profit\n",
       "0  165349.20       136897.80  471784.10       Paris  192261.83\n",
       "1  162597.70       151377.59  443898.53  Strasbourg  191792.06\n",
       "2  153441.51       101145.55  407934.54        Lyon  191050.39\n",
       "3  144372.41       118671.85  383199.62       Paris  182901.99\n",
       "4  142107.34        91391.77  366168.42        Lyon  166187.94"
      ]
     },
     "execution_count": 4,
     "metadata": {},
     "output_type": "execute_result"
    }
   ],
   "source": [
    "#Informations descriptives relatives aux variables\n",
    "df.head()"
   ]
  },
  {
   "cell_type": "markdown",
   "id": "c661408c",
   "metadata": {},
   "source": [
    "Remarque: les floats correspondent seulement à des entrées monétaires (on suppose en euros). Donc chaque ligne correspond à une start-up, à la répartition de ses investissements en fonction du secteur d'activité et à son profit."
   ]
  },
  {
   "cell_type": "code",
   "execution_count": 5,
   "id": "315fbb94",
   "metadata": {},
   "outputs": [
    {
     "data": {
      "text/plain": [
       "3"
      ]
     },
     "execution_count": 5,
     "metadata": {},
     "output_type": "execute_result"
    }
   ],
   "source": [
    "len(pd.unique(df['villes']))"
   ]
  },
  {
   "cell_type": "markdown",
   "id": "82514ce9",
   "metadata": {},
   "source": [
    "On compte seulement trois villes différentes dans le dataset. On pourrait inclure la ville comme target autant que le profit."
   ]
  },
  {
   "cell_type": "markdown",
   "id": "c84be6b4",
   "metadata": {},
   "source": [
    "Je veux voir ma répartition par ville avant encodage, grâce à un histogramme."
   ]
  },
  {
   "cell_type": "code",
   "execution_count": 6,
   "id": "2a9b685d",
   "metadata": {},
   "outputs": [
    {
     "data": {
      "text/plain": [
       "Text(0, 0.5, 'Nombre de start-ups')"
      ]
     },
     "execution_count": 6,
     "metadata": {},
     "output_type": "execute_result"
    },
    {
     "data": {
      "image/png": "[encoded data removed]",
      "text/plain": [
       "<Figure size 432x288 with 1 Axes>"
      ]
     },
     "metadata": {
      "needs_background": "light"
     },
     "output_type": "display_data"
    }
   ],
   "source": [
    "plt.hist(df['villes'],rwidth=0.95)\n",
    "plt.title('Villes',fontsize = 20)\n",
    "plt.xlabel('Villes',fontsize = 16)\n",
    "plt.ylabel('Nombre de start-ups', fontsize = 16)"
   ]
  },
  {
   "cell_type": "markdown",
   "id": "c72bbf66",
   "metadata": {},
   "source": [
    "La répartition est quasi-équivalente."
   ]
  },
  {
   "cell_type": "code",
   "execution_count": 7,
   "id": "4bf399b5",
   "metadata": {},
   "outputs": [
    {
     "data": {
      "text/plain": [
       "villes\n",
       "Lyon          118774.024375\n",
       "Paris         113756.446471\n",
       "Strasbourg    103905.175294\n",
       "Name: Profit, dtype: float64"
      ]
     },
     "execution_count": 7,
     "metadata": {},
     "output_type": "execute_result"
    }
   ],
   "source": [
    "##### Je veux voir si le profit moyen généré par ville diffère vraiment d'une ville à l'autre\n",
    "\n",
    "df.groupby('villes')['Profit'].mean()"
   ]
  },
  {
   "cell_type": "markdown",
   "id": "7f4a4e83",
   "metadata": {},
   "source": [
    "Le profit moyen par ville est sensiblement le même pour les trois, si ce n'est une différence de 15000 euros environ entre Strasbourg et Lyon. Nous comparerons les résultats finaux entre un modèle qui prend en compte la variable de la ville et un autre qui ne la prend pas en compte."
   ]
  },
  {
   "cell_type": "code",
   "execution_count": 8,
   "id": "d3724d2d",
   "metadata": {},
   "outputs": [
    {
     "data": {
      "text/plain": [
       "<AxesSubplot:ylabel='None'>"
      ]
     },
     "execution_count": 8,
     "metadata": {},
     "output_type": "execute_result"
    },
    {
     "data": {
      "image/png": "[encoded data removed]",
      "text/plain": [
       "<Figure size 432x288 with 1 Axes>"
      ]
     },
     "metadata": {},
     "output_type": "display_data"
    }
   ],
   "source": [
    "df.dtypes.value_counts().plot.pie()"
   ]
  },
  {
   "cell_type": "markdown",
   "id": "c6fee20c",
   "metadata": {},
   "source": [
    "Il y a peu d'object car concernent seulement les villes."
   ]
  },
  {
   "cell_type": "markdown",
   "id": "d0d2e486",
   "metadata": {},
   "source": [
    "Faire une matrice de corrélation et heatmap"
   ]
  },
  {
   "cell_type": "code",
   "execution_count": 9,
   "id": "d7d9b766",
   "metadata": {},
   "outputs": [
    {
     "data": {
      "image/png": "[encoded data removed]",
      "text/plain": [
       "<Figure size 432x288 with 2 Axes>"
      ]
     },
     "metadata": {
      "needs_background": "light"
     },
     "output_type": "display_data"
    }
   ],
   "source": [
    "from seaborn import heatmap\n",
    "correlation_mat = df.corr()\n",
    "\n",
    "sns.heatmap(correlation_mat, annot = True)\n",
    "\n",
    "plt.show()"
   ]
  },
  {
   "cell_type": "markdown",
   "id": "dcdc8e7a",
   "metadata": {},
   "source": [
    "Il y a une forte corrélation positive entre le profit et les domaines des RetD et du Marketing.\n",
    "On peut déjà dire qu'a priori le secteur de l'administration de rapporte pas le plus de profit.\n",
    "Pour voir la corrélation entre profit et ville, il faut encoder les villes."
   ]
  },
  {
   "cell_type": "markdown",
   "id": "01050297",
   "metadata": {},
   "source": [
    "Encodage des villes"
   ]
  },
  {
   "cell_type": "code",
   "execution_count": 10,
   "id": "5cef5198",
   "metadata": {},
   "outputs": [],
   "source": [
    "from sklearn import preprocessing\n",
    "from sklearn.preprocessing import LabelEncoder\n",
    "label = preprocessing.LabelEncoder() \n",
    " \n",
    "df['villes']= label.fit_transform(df['villes']) "
   ]
  },
  {
   "cell_type": "markdown",
   "id": "c948bebd",
   "metadata": {},
   "source": [
    "Vérification"
   ]
  },
  {
   "cell_type": "code",
   "execution_count": 11,
   "id": "638fe821",
   "metadata": {},
   "outputs": [
    {
     "data": {
      "text/html": [
       "<div>\n",
       "<style scoped>\n",
       "    .dataframe tbody tr th:only-of-type {\n",
       "        vertical-align: middle;\n",
       "    }\n",
       "\n",
       "    .dataframe tbody tr th {\n",
       "        vertical-align: top;\n",
       "    }\n",
       "\n",
       "    .dataframe thead th {\n",
       "        text-align: right;\n",
       "    }\n",
       "</style>\n",
       "<table border=\"1\" class=\"dataframe\">\n",
       "  <thead>\n",
       "    <tr style=\"text-align: right;\">\n",
       "      <th></th>\n",
       "      <th>R&amp;D</th>\n",
       "      <th>Administration</th>\n",
       "      <th>Marketing</th>\n",
       "      <th>villes</th>\n",
       "      <th>Profit</th>\n",
       "    </tr>\n",
       "  </thead>\n",
       "  <tbody>\n",
       "    <tr>\n",
       "      <th>0</th>\n",
       "      <td>165349.20</td>\n",
       "      <td>136897.80</td>\n",
       "      <td>471784.10</td>\n",
       "      <td>1</td>\n",
       "      <td>192261.83</td>\n",
       "    </tr>\n",
       "    <tr>\n",
       "      <th>1</th>\n",
       "      <td>162597.70</td>\n",
       "      <td>151377.59</td>\n",
       "      <td>443898.53</td>\n",
       "      <td>2</td>\n",
       "      <td>191792.06</td>\n",
       "    </tr>\n",
       "    <tr>\n",
       "      <th>2</th>\n",
       "      <td>153441.51</td>\n",
       "      <td>101145.55</td>\n",
       "      <td>407934.54</td>\n",
       "      <td>0</td>\n",
       "      <td>191050.39</td>\n",
       "    </tr>\n",
       "    <tr>\n",
       "      <th>3</th>\n",
       "      <td>144372.41</td>\n",
       "      <td>118671.85</td>\n",
       "      <td>383199.62</td>\n",
       "      <td>1</td>\n",
       "      <td>182901.99</td>\n",
       "    </tr>\n",
       "    <tr>\n",
       "      <th>4</th>\n",
       "      <td>142107.34</td>\n",
       "      <td>91391.77</td>\n",
       "      <td>366168.42</td>\n",
       "      <td>0</td>\n",
       "      <td>166187.94</td>\n",
       "    </tr>\n",
       "  </tbody>\n",
       "</table>\n",
       "</div>"
      ],
      "text/plain": [
       "         R&D  Administration  Marketing  villes     Profit\n",
       "0  165349.20       136897.80  471784.10       1  192261.83\n",
       "1  162597.70       151377.59  443898.53       2  191792.06\n",
       "2  153441.51       101145.55  407934.54       0  191050.39\n",
       "3  144372.41       118671.85  383199.62       1  182901.99\n",
       "4  142107.34        91391.77  366168.42       0  166187.94"
      ]
     },
     "execution_count": 11,
     "metadata": {},
     "output_type": "execute_result"
    }
   ],
   "source": [
    "df.head(5)"
   ]
  },
  {
   "cell_type": "markdown",
   "id": "9f541b48",
   "metadata": {},
   "source": [
    "Je relance ma heatmap."
   ]
  },
  {
   "cell_type": "code",
   "execution_count": 12,
   "id": "70fb3449",
   "metadata": {},
   "outputs": [
    {
     "data": {
      "image/png": "[encoded data removed]",
      "text/plain": [
       "<Figure size 432x288 with 2 Axes>"
      ]
     },
     "metadata": {
      "needs_background": "light"
     },
     "output_type": "display_data"
    }
   ],
   "source": [
    "correlation_mat = df.corr()\n",
    "\n",
    "sns.heatmap(correlation_mat, annot = True)\n",
    "\n",
    "plt.show()"
   ]
  },
  {
   "cell_type": "markdown",
   "id": "41ff98d4",
   "metadata": {},
   "source": [
    "On observe une corrélation négative intéressante entre les villes et le marketing mais pas de corrélation aussi grande qu'entre le profit et certains secteurs. Etant donné que les villes sont au départ des données catégorielles on ne peut pas tirer de conclusion de corrélation très représentative car cela ne nous indique pas l'influence de chaque ville."
   ]
  },
  {
   "cell_type": "markdown",
   "id": "84361ea8",
   "metadata": {},
   "source": [
    "IV.TRAITEMENT des données manquantes ou nulles"
   ]
  },
  {
   "cell_type": "code",
   "execution_count": 13,
   "id": "c7a6d5d6",
   "metadata": {},
   "outputs": [
    {
     "data": {
      "text/plain": [
       "R&D               0\n",
       "Administration    0\n",
       "Marketing         0\n",
       "villes            0\n",
       "Profit            0\n",
       "dtype: int64"
      ]
     },
     "execution_count": 13,
     "metadata": {},
     "output_type": "execute_result"
    }
   ],
   "source": [
    "#manquantes\n",
    "df.isna().sum()"
   ]
  },
  {
   "cell_type": "markdown",
   "id": "42a6a5e7",
   "metadata": {},
   "source": [
    "Je n'ai pas de données manquantes."
   ]
  },
  {
   "cell_type": "code",
   "execution_count": 14,
   "id": "d46804ca",
   "metadata": {},
   "outputs": [
    {
     "data": {
      "text/plain": [
       "R&D               0\n",
       "Administration    0\n",
       "Marketing         0\n",
       "villes            0\n",
       "Profit            0\n",
       "dtype: int64"
      ]
     },
     "execution_count": 14,
     "metadata": {},
     "output_type": "execute_result"
    }
   ],
   "source": [
    "#nulles\n",
    "df.isnull().sum()"
   ]
  },
  {
   "cell_type": "markdown",
   "id": "ef37b392",
   "metadata": {},
   "source": [
    "Je n'ai pas de valeurs nulles."
   ]
  },
  {
   "cell_type": "code",
   "execution_count": 15,
   "id": "5000d743",
   "metadata": {},
   "outputs": [
    {
     "data": {
      "text/plain": [
       "R&D               float64\n",
       "Administration    float64\n",
       "Marketing         float64\n",
       "villes              int32\n",
       "Profit            float64\n",
       "dtype: object"
      ]
     },
     "execution_count": 15,
     "metadata": {},
     "output_type": "execute_result"
    }
   ],
   "source": [
    "df.dtypes"
   ]
  },
  {
   "cell_type": "markdown",
   "id": "ede464b3",
   "metadata": {},
   "source": [
    "Je transforme ma colonne villes en float pour standardiser. "
   ]
  },
  {
   "cell_type": "code",
   "execution_count": 16,
   "id": "85292649",
   "metadata": {},
   "outputs": [],
   "source": [
    "df.villes = df.villes.astype('float64')"
   ]
  },
  {
   "cell_type": "markdown",
   "id": "82136b88",
   "metadata": {},
   "source": [
    "Vérification"
   ]
  },
  {
   "cell_type": "code",
   "execution_count": 17,
   "id": "a86bef40",
   "metadata": {},
   "outputs": [
    {
     "data": {
      "text/html": [
       "<div>\n",
       "<style scoped>\n",
       "    .dataframe tbody tr th:only-of-type {\n",
       "        vertical-align: middle;\n",
       "    }\n",
       "\n",
       "    .dataframe tbody tr th {\n",
       "        vertical-align: top;\n",
       "    }\n",
       "\n",
       "    .dataframe thead th {\n",
       "        text-align: right;\n",
       "    }\n",
       "</style>\n",
       "<table border=\"1\" class=\"dataframe\">\n",
       "  <thead>\n",
       "    <tr style=\"text-align: right;\">\n",
       "      <th></th>\n",
       "      <th>R&amp;D</th>\n",
       "      <th>Administration</th>\n",
       "      <th>Marketing</th>\n",
       "      <th>villes</th>\n",
       "      <th>Profit</th>\n",
       "    </tr>\n",
       "  </thead>\n",
       "  <tbody>\n",
       "    <tr>\n",
       "      <th>0</th>\n",
       "      <td>165349.20</td>\n",
       "      <td>136897.80</td>\n",
       "      <td>471784.10</td>\n",
       "      <td>1.0</td>\n",
       "      <td>192261.83</td>\n",
       "    </tr>\n",
       "    <tr>\n",
       "      <th>1</th>\n",
       "      <td>162597.70</td>\n",
       "      <td>151377.59</td>\n",
       "      <td>443898.53</td>\n",
       "      <td>2.0</td>\n",
       "      <td>191792.06</td>\n",
       "    </tr>\n",
       "    <tr>\n",
       "      <th>2</th>\n",
       "      <td>153441.51</td>\n",
       "      <td>101145.55</td>\n",
       "      <td>407934.54</td>\n",
       "      <td>0.0</td>\n",
       "      <td>191050.39</td>\n",
       "    </tr>\n",
       "    <tr>\n",
       "      <th>3</th>\n",
       "      <td>144372.41</td>\n",
       "      <td>118671.85</td>\n",
       "      <td>383199.62</td>\n",
       "      <td>1.0</td>\n",
       "      <td>182901.99</td>\n",
       "    </tr>\n",
       "    <tr>\n",
       "      <th>4</th>\n",
       "      <td>142107.34</td>\n",
       "      <td>91391.77</td>\n",
       "      <td>366168.42</td>\n",
       "      <td>0.0</td>\n",
       "      <td>166187.94</td>\n",
       "    </tr>\n",
       "  </tbody>\n",
       "</table>\n",
       "</div>"
      ],
      "text/plain": [
       "         R&D  Administration  Marketing  villes     Profit\n",
       "0  165349.20       136897.80  471784.10     1.0  192261.83\n",
       "1  162597.70       151377.59  443898.53     2.0  191792.06\n",
       "2  153441.51       101145.55  407934.54     0.0  191050.39\n",
       "3  144372.41       118671.85  383199.62     1.0  182901.99\n",
       "4  142107.34        91391.77  366168.42     0.0  166187.94"
      ]
     },
     "execution_count": 17,
     "metadata": {},
     "output_type": "execute_result"
    }
   ],
   "source": [
    "df.head(5)"
   ]
  },
  {
   "cell_type": "markdown",
   "id": "dc9e018c",
   "metadata": {},
   "source": [
    "V.VISUALISATION des données"
   ]
  },
  {
   "cell_type": "markdown",
   "id": "5d877f3b",
   "metadata": {},
   "source": [
    "Histogrammes"
   ]
  },
  {
   "cell_type": "code",
   "execution_count": 18,
   "id": "7d309026",
   "metadata": {},
   "outputs": [
    {
     "data": {
      "text/plain": [
       "Text(0, 0.5, 'Nombre de start-ups')"
      ]
     },
     "execution_count": 18,
     "metadata": {},
     "output_type": "execute_result"
    },
    {
     "data": {
      "image/png": "[encoded data removed]",
      "text/plain": [
       "<Figure size 432x288 with 1 Axes>"
      ]
     },
     "metadata": {
      "needs_background": "light"
     },
     "output_type": "display_data"
    }
   ],
   "source": [
    "plt.hist(df['Administration'],rwidth=0.95)\n",
    "plt.title('Histogramme administration',fontsize = 20)\n",
    "plt.xlabel('Montant investi',fontsize = 16)\n",
    "plt.ylabel('Nombre de start-ups', fontsize = 16)"
   ]
  },
  {
   "cell_type": "code",
   "execution_count": 19,
   "id": "f8a0441a",
   "metadata": {},
   "outputs": [
    {
     "data": {
      "text/plain": [
       "Text(0, 0.5, 'Nombre de start-ups')"
      ]
     },
     "execution_count": 19,
     "metadata": {},
     "output_type": "execute_result"
    },
    {
     "data": {
      "image/png": "[encoded data removed]",
      "text/plain": [
       "<Figure size 432x288 with 1 Axes>"
      ]
     },
     "metadata": {
      "needs_background": "light"
     },
     "output_type": "display_data"
    }
   ],
   "source": [
    "plt.hist(df['R&D'],rwidth=0.95)\n",
    "plt.title('Histogramme R&D',fontsize = 20)\n",
    "plt.xlabel('Montant investi',fontsize = 16)\n",
    "plt.ylabel('Nombre de start-ups', fontsize = 16)"
   ]
  },
  {
   "cell_type": "code",
   "execution_count": 20,
   "id": "41ce98a7",
   "metadata": {},
   "outputs": [
    {
     "data": {
      "text/plain": [
       "Text(0, 0.5, 'Nombre de start-ups')"
      ]
     },
     "execution_count": 20,
     "metadata": {},
     "output_type": "execute_result"
    },
    {
     "data": {
      "image/png": "[encoded data removed]",
      "text/plain": [
       "<Figure size 432x288 with 1 Axes>"
      ]
     },
     "metadata": {
      "needs_background": "light"
     },
     "output_type": "display_data"
    }
   ],
   "source": [
    "plt.hist(df['Marketing'],rwidth=0.95)\n",
    "plt.title('Marketing',fontsize = 20)\n",
    "plt.xlabel('Montant investi',fontsize = 16)\n",
    "plt.ylabel('Nombre de start-ups', fontsize = 16)"
   ]
  },
  {
   "cell_type": "markdown",
   "id": "936de70b",
   "metadata": {},
   "source": [
    "Le secteur avec le plus d'investissements est celui du marketing.L'administratif vient en deuxième position et le R et D en troisième."
   ]
  },
  {
   "cell_type": "code",
   "execution_count": 21,
   "id": "dff29c0c",
   "metadata": {},
   "outputs": [
    {
     "data": {
      "text/plain": [
       "Text(0, 0.5, 'Nombre de start-ups')"
      ]
     },
     "execution_count": 21,
     "metadata": {},
     "output_type": "execute_result"
    },
    {
     "data": {
      "image/png": "[encoded data removed]",
      "text/plain": [
       "<Figure size 432x288 with 1 Axes>"
      ]
     },
     "metadata": {
      "needs_background": "light"
     },
     "output_type": "display_data"
    }
   ],
   "source": [
    "plt.hist(df['Profit'],rwidth=0.95)\n",
    "plt.title('Profit',fontsize = 20)\n",
    "plt.xlabel('Montant',fontsize = 16)\n",
    "plt.ylabel('Nombre de start-ups', fontsize = 16)"
   ]
  },
  {
   "cell_type": "markdown",
   "id": "e6a8dbf7",
   "metadata": {},
   "source": [
    "Le profit de chaque start-up se situe entre 20000 et 190000 euros avec un pic de 90000 à 120000 euros."
   ]
  },
  {
   "cell_type": "markdown",
   "id": "d2cfae44",
   "metadata": {},
   "source": [
    "Examen colonne target"
   ]
  },
  {
   "cell_type": "code",
   "execution_count": 22,
   "id": "359c9211",
   "metadata": {},
   "outputs": [
    {
     "data": {
      "text/plain": [
       "192261.83    1\n",
       "89949.14     1\n",
       "105008.31    1\n",
       "103282.38    1\n",
       "101004.64    1\n",
       "99937.59     1\n",
       "97483.56     1\n",
       "97427.84     1\n",
       "96778.92     1\n",
       "96712.80     1\n",
       "96479.51     1\n",
       "90708.19     1\n",
       "81229.06     1\n",
       "191792.06    1\n",
       "81005.76     1\n",
       "78239.91     1\n",
       "77798.83     1\n",
       "71498.49     1\n",
       "69758.98     1\n",
       "65200.33     1\n",
       "64926.08     1\n",
       "49490.75     1\n",
       "42559.73     1\n",
       "35673.41     1\n",
       "105733.54    1\n",
       "107404.34    1\n",
       "108552.04    1\n",
       "108733.99    1\n",
       "191050.39    1\n",
       "182901.99    1\n",
       "166187.94    1\n",
       "156991.12    1\n",
       "156122.51    1\n",
       "155752.60    1\n",
       "152211.77    1\n",
       "149759.96    1\n",
       "146121.95    1\n",
       "144259.40    1\n",
       "141585.52    1\n",
       "134307.35    1\n",
       "132602.65    1\n",
       "129917.04    1\n",
       "126992.93    1\n",
       "125370.37    1\n",
       "124266.90    1\n",
       "122776.86    1\n",
       "118474.03    1\n",
       "111313.02    1\n",
       "110352.25    1\n",
       "14681.40     1\n",
       "Name: Profit, dtype: int64"
      ]
     },
     "execution_count": 22,
     "metadata": {},
     "output_type": "execute_result"
    }
   ],
   "source": [
    "df.Profit.value_counts()"
   ]
  },
  {
   "cell_type": "markdown",
   "id": "0626c940",
   "metadata": {},
   "source": [
    "La distribution de chaque colonne est à valeur unique."
   ]
  },
  {
   "cell_type": "markdown",
   "id": "e768bafa",
   "metadata": {},
   "source": [
    "VI Entraîner,tester,créer"
   ]
  },
  {
   "cell_type": "code",
   "execution_count": 23,
   "id": "ac94bed4",
   "metadata": {},
   "outputs": [],
   "source": [
    "#Définition des variables\n",
    "\n",
    "y = df.iloc[:,-1]\n",
    "X = df.iloc[:,:-1]"
   ]
  },
  {
   "cell_type": "markdown",
   "id": "d1718dc4",
   "metadata": {},
   "source": [
    "SPLIT le dataset en données de TRAINING et de TESTING."
   ]
  },
  {
   "cell_type": "code",
   "execution_count": 24,
   "id": "fd7936d4",
   "metadata": {},
   "outputs": [],
   "source": [
    "from sklearn.model_selection import train_test_split\n",
    "X_train, X_test, y_train, y_test = train_test_split(X,y,test_size=0.3,random_state=0)"
   ]
  },
  {
   "cell_type": "code",
   "execution_count": 25,
   "id": "51e644b1",
   "metadata": {},
   "outputs": [
    {
     "data": {
      "text/plain": [
       "155752.60    1\n",
       "111313.02    1\n",
       "141585.52    1\n",
       "89949.14     1\n",
       "108552.04    1\n",
       "156122.51    1\n",
       "108733.99    1\n",
       "90708.19     1\n",
       "122776.86    1\n",
       "14681.40     1\n",
       "149759.96    1\n",
       "81005.76     1\n",
       "49490.75     1\n",
       "182901.99    1\n",
       "192261.83    1\n",
       "42559.73     1\n",
       "191792.06    1\n",
       "78239.91     1\n",
       "132602.65    1\n",
       "126992.93    1\n",
       "64926.08     1\n",
       "35673.41     1\n",
       "101004.64    1\n",
       "129917.04    1\n",
       "99937.59     1\n",
       "97427.84     1\n",
       "71498.49     1\n",
       "125370.37    1\n",
       "118474.03    1\n",
       "69758.98     1\n",
       "152211.77    1\n",
       "134307.35    1\n",
       "107404.34    1\n",
       "156991.12    1\n",
       "65200.33     1\n",
       "Name: Profit, dtype: int64"
      ]
     },
     "execution_count": 25,
     "metadata": {},
     "output_type": "execute_result"
    }
   ],
   "source": [
    "# vérifiez le nombre de données y dans chaque jeu (train et test)\n",
    "y_test.value_counts()\n",
    "y_train.value_counts()"
   ]
  },
  {
   "cell_type": "code",
   "execution_count": 26,
   "id": "9e2076e7",
   "metadata": {},
   "outputs": [
    {
     "data": {
      "text/plain": [
       "((35,), (15,))"
      ]
     },
     "execution_count": 26,
     "metadata": {},
     "output_type": "execute_result"
    }
   ],
   "source": [
    "#vérification des dimensions\n",
    "y_train.shape , y_test.shape"
   ]
  },
  {
   "cell_type": "markdown",
   "id": "45060ac7",
   "metadata": {},
   "source": [
    "CREATION du modèle"
   ]
  },
  {
   "cell_type": "code",
   "execution_count": 27,
   "id": "d6429027",
   "metadata": {},
   "outputs": [],
   "source": [
    "from sklearn.linear_model import LinearRegression\n",
    "from sklearn.metrics import mean_squared_error, r2_score\n",
    "lm = LinearRegression()"
   ]
  },
  {
   "cell_type": "markdown",
   "id": "bb450b1a",
   "metadata": {},
   "source": [
    "ENTRAINEMENT"
   ]
  },
  {
   "cell_type": "code",
   "execution_count": 28,
   "id": "4758762a",
   "metadata": {},
   "outputs": [
    {
     "data": {
      "text/plain": [
       "LinearRegression()"
      ]
     },
     "execution_count": 28,
     "metadata": {},
     "output_type": "execute_result"
    }
   ],
   "source": [
    "lm.fit(X_train, y_train )"
   ]
  },
  {
   "cell_type": "markdown",
   "id": "d6586c6f",
   "metadata": {},
   "source": [
    "VII.PREDICTION"
   ]
  },
  {
   "cell_type": "code",
   "execution_count": 29,
   "id": "be8fe750",
   "metadata": {
    "scrolled": true
   },
   "outputs": [
    {
     "name": "stdout",
     "output_type": "stream",
     "text": [
      "[104323.04953561 132562.98421652 133961.5334615   72621.26788067\n",
      " 179972.6142242  114491.12697088  66393.34187512  98364.69880856\n",
      " 114533.17016997 169420.72719794  96560.86804962  87993.43407499\n",
      " 110996.72535647  90423.14367602 128061.34293359]\n"
     ]
    }
   ],
   "source": [
    "#Apply trained model to make prediction (on test set)\n",
    "\n",
    "y_pred = lm.predict(X_test)\n",
    "print(y_pred)"
   ]
  },
  {
   "cell_type": "code",
   "execution_count": 50,
   "id": "47fcd5c8",
   "metadata": {},
   "outputs": [
    {
     "name": "stdout",
     "output_type": "stream",
     "text": [
      "Coefficients: [ 7.91158296e-01  3.00676818e-02  3.09219732e-02 -2.43867367e+02]\n",
      "Intercept: 42920.737440639394\n"
     ]
    }
   ],
   "source": [
    "#Visualisation des coefficients\n",
    "\n",
    "print('Coefficients:', lm.coef_)\n",
    "print('Intercept:', lm.intercept_)\n"
   ]
  },
  {
   "cell_type": "code",
   "execution_count": 31,
   "id": "b4bcc2f3",
   "metadata": {},
   "outputs": [
    {
     "name": "stdout",
     "output_type": "stream",
     "text": [
      "Index(['R&D', 'Administration', 'Marketing', 'villes', 'Profit'], dtype='object')\n"
     ]
    }
   ],
   "source": [
    "print(df.columns)"
   ]
  },
  {
   "cell_type": "markdown",
   "id": "f3d32cfe",
   "metadata": {},
   "source": [
    "Le coefficient RetD est plus conséquent que les autres."
   ]
  },
  {
   "cell_type": "code",
   "execution_count": 32,
   "id": "cc0b54a5",
   "metadata": {},
   "outputs": [
    {
     "data": {
      "text/plain": [
       "<matplotlib.legend.Legend at 0x2c61da3b8e0>"
      ]
     },
     "execution_count": 32,
     "metadata": {},
     "output_type": "execute_result"
    },
    {
     "data": {
      "image/png": "[encoded data removed]",
      "text/plain": [
       "<Figure size 432x288 with 1 Axes>"
      ]
     },
     "metadata": {
      "needs_background": "light"
     },
     "output_type": "display_data"
    }
   ],
   "source": [
    "sns.histplot(y_pred, label='prediction',color='blue')\n",
    "sns.histplot(y_train, label='target')\n",
    "plt.legend()"
   ]
  },
  {
   "cell_type": "code",
   "execution_count": 33,
   "id": "3cc88b32",
   "metadata": {},
   "outputs": [
    {
     "data": {
      "text/plain": [
       "array([192198.95625419])"
      ]
     },
     "execution_count": 33,
     "metadata": {},
     "output_type": "execute_result"
    }
   ],
   "source": [
    "#Je teste ma prédiction avec les données de la première ligne de mon dataset \n",
    "\n",
    "lm.predict([[165349.20,136897.80,471784.10,1.0]])"
   ]
  },
  {
   "cell_type": "markdown",
   "id": "fbce417f",
   "metadata": {},
   "source": [
    "VIII.EVALUATION"
   ]
  },
  {
   "cell_type": "markdown",
   "id": "6bdf7f79",
   "metadata": {},
   "source": [
    "Métriques d'évaluation"
   ]
  },
  {
   "cell_type": "code",
   "execution_count": 47,
   "id": "83203842",
   "metadata": {},
   "outputs": [
    {
     "data": {
      "text/plain": [
       "0.9359239408935612"
      ]
     },
     "execution_count": 47,
     "metadata": {},
     "output_type": "execute_result"
    }
   ],
   "source": [
    "#R2 score\n",
    "from sklearn.metrics import r2_score,mean_absolute_error,mean_squared_error\n",
    "r2_score(y_test,y_pred)"
   ]
  },
  {
   "cell_type": "code",
   "execution_count": 46,
   "id": "a5e39bed",
   "metadata": {},
   "outputs": [
    {
     "data": {
      "text/plain": [
       "6521.175567625073"
      ]
     },
     "execution_count": 46,
     "metadata": {},
     "output_type": "execute_result"
    }
   ],
   "source": [
    "##MAE et RMSE mesurent des erreurs donc plus elles sont hautes plus il y a d'erreur.\n",
    "#Ce sont des métriques intéressantes si on peut les comparer à d'autres modèles. Si on a beaucoup de variables il est plus facile\n",
    "#d'utiliser la technique de backward evaluation pour tester les variables, plutôt que créer autant de modèles que de variables.\n",
    "\n",
    "#MAE\n",
    "mean_absolute_error(y_test, y_pred)\n"
   ]
  },
  {
   "cell_type": "code",
   "execution_count": 49,
   "id": "b1574a4f",
   "metadata": {},
   "outputs": [
    {
     "data": {
      "text/plain": [
       "7864.428856627148"
      ]
     },
     "execution_count": 49,
     "metadata": {},
     "output_type": "execute_result"
    }
   ],
   "source": [
    "#RMSE\n",
    "mean_squared_error(y_test, y_pred, squared=False)"
   ]
  },
  {
   "cell_type": "markdown",
   "id": "5ad7ae66",
   "metadata": {},
   "source": [
    "Le résultat du r2_score est acceptable. Les résultats du MAE et RMSE doivent être comparés avec d'autres modèles."
   ]
  },
  {
   "cell_type": "code",
   "execution_count": 35,
   "id": "7fb936b1",
   "metadata": {},
   "outputs": [
    {
     "data": {
      "text/plain": [
       "Text(0.5, 1.0, 'Actual vs. Predicted')"
      ]
     },
     "execution_count": 35,
     "metadata": {},
     "output_type": "execute_result"
    },
    {
     "data": {
      "image/png": "[encoded data removed]",
      "text/plain": [
       "<Figure size 1080x720 with 1 Axes>"
      ]
     },
     "metadata": {
      "needs_background": "light"
     },
     "output_type": "display_data"
    }
   ],
   "source": [
    "#Plot the results\n",
    "import matplotlib.pyplot as plt\n",
    "plt.figure(figsize=(15,10))\n",
    "plt.scatter(y_test,y_pred)\n",
    "plt.xlabel('Actual')\n",
    "plt.ylabel('Predicted')\n",
    "plt.title('Actual vs. Predicted')"
   ]
  },
  {
   "cell_type": "markdown",
   "id": "adfc336b",
   "metadata": {},
   "source": [
    "Le test de prédiction ainsi que la métrique R2 indiquent une prédiction satisfaisante pour notre modèle. La comparaison avec un autre modèle(celui de Fanny) qui ne comprend pas le secteur de l'administration et les villes montre que notre modèle est plus précis dans le résultat."
   ]
  }
 ],
 "metadata": {
  "kernelspec": {
   "display_name": "Python 3 (ipykernel)",
   "language": "python",
   "name": "python3"
  },
  "language_info": {
   "codemirror_mode": {
    "name": "ipython",
    "version": 3
   },
   "file_extension": ".py",
   "mimetype": "text/x-python",
   "name": "python",
   "nbconvert_exporter": "python",
   "pygments_lexer": "ipython3",
   "version": "3.9.7"
  }
 },
 "nbformat": 4,
 "nbformat_minor": 5
}
